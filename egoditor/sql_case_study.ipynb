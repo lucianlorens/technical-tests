{
 "cells": [
  {
   "cell_type": "code",
   "execution_count": 5,
   "id": "745458e5",
   "metadata": {},
   "outputs": [],
   "source": [
    "# Load data with pandas"
   ]
  },
  {
   "cell_type": "code",
   "execution_count": 6,
   "id": "cd27fc89",
   "metadata": {},
   "outputs": [],
   "source": [
    "# Normalize data\n",
    "\n"
   ]
  },
  {
   "cell_type": "code",
   "execution_count": 3,
   "id": "971f8ba7",
   "metadata": {},
   "outputs": [],
   "source": [
    "# Create sqlite DB"
   ]
  },
  {
   "cell_type": "code",
   "execution_count": 7,
   "id": "ccb96364",
   "metadata": {},
   "outputs": [],
   "source": [
    "# "
   ]
  },
  {
   "cell_type": "markdown",
   "id": "c5507f9a",
   "metadata": {},
   "source": []
  },
  {
   "cell_type": "code",
   "execution_count": null,
   "id": "19d3b9e0",
   "metadata": {},
   "outputs": [],
   "source": []
  },
  {
   "cell_type": "code",
   "execution_count": null,
   "id": "b414d895",
   "metadata": {},
   "outputs": [],
   "source": []
  },
  {
   "cell_type": "code",
   "execution_count": null,
   "id": "bf42eaef",
   "metadata": {},
   "outputs": [],
   "source": []
  }
 ],
 "metadata": {
  "kernelspec": {
   "display_name": "Python 3",
   "language": "python",
   "name": "python3"
  },
  "language_info": {
   "codemirror_mode": {
    "name": "ipython",
    "version": 3
   },
   "file_extension": ".py",
   "mimetype": "text/x-python",
   "name": "python",
   "nbconvert_exporter": "python",
   "pygments_lexer": "ipython3",
   "version": "3.8.10"
  }
 },
 "nbformat": 4,
 "nbformat_minor": 5
}
