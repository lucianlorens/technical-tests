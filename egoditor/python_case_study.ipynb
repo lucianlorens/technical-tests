{
 "cells": [
  {
   "cell_type": "markdown",
   "id": "d372db6b",
   "metadata": {},
   "source": [
    "\n",
    "### Task: Write an ETL job in python\n",
    "Create an ETL job that pulls the temperature from your city (using a public weather data api)\n",
    "and loads it to a daily temperature table.\n",
    "Your script needs to be idempotent and easy to maintain. Your target table (to which you are\n",
    "loading) should always be available, and in case of load failure, the target table should still\n",
    "hold the old data."
   ]
  },
  {
   "cell_type": "code",
   "execution_count": null,
   "id": "cd3e8cda",
   "metadata": {},
   "outputs": [],
   "source": []
  },
  {
   "cell_type": "code",
   "execution_count": null,
   "id": "1d7a311d",
   "metadata": {},
   "outputs": [],
   "source": []
  },
  {
   "cell_type": "code",
   "execution_count": null,
   "id": "f0b2edc3",
   "metadata": {},
   "outputs": [],
   "source": []
  },
  {
   "cell_type": "code",
   "execution_count": null,
   "id": "f19d7747",
   "metadata": {},
   "outputs": [],
   "source": []
  }
 ],
 "metadata": {
  "kernelspec": {
   "display_name": "Python 3",
   "language": "python",
   "name": "python3"
  },
  "language_info": {
   "codemirror_mode": {
    "name": "ipython",
    "version": 3
   },
   "file_extension": ".py",
   "mimetype": "text/x-python",
   "name": "python",
   "nbconvert_exporter": "python",
   "pygments_lexer": "ipython3",
   "version": "3.8.10"
  }
 },
 "nbformat": 4,
 "nbformat_minor": 5
}
