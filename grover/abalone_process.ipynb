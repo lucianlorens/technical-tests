{
 "cells": [
  {
   "cell_type": "code",
   "execution_count": 5,
   "id": "859d45d3",
   "metadata": {},
   "outputs": [],
   "source": [
    "from pyspark.sql import SparkSession\n",
    "from pyspark import SparkContext\n",
    "from pyspark import SparkConf\n",
    "from pyspark.sql.functions import *\n",
    "from pyspark.sql.types import *"
   ]
  },
  {
   "cell_type": "code",
   "execution_count": 2,
   "id": "ffa2161d",
   "metadata": {},
   "outputs": [],
   "source": [
    "# setup spark home env \n",
    "# PYSPARK_PYTHON=python3 SPARK_HOME=~/.local/lib/python3.5/site-packages/pyspark pyspark"
   ]
  },
  {
   "cell_type": "code",
   "execution_count": 3,
   "id": "a2f59540",
   "metadata": {},
   "outputs": [],
   "source": [
    "conf = SparkConf()\n",
    "conf.setAppName(\"abalone_stream\")\n",
    "\n",
    "sc = SparkContext(conf=conf)\n"
   ]
  },
  {
   "cell_type": "code",
   "execution_count": 6,
   "id": "6401ceb1",
   "metadata": {},
   "outputs": [],
   "source": [
    "spark = SparkSession \\\n",
    ".builder \\\n",
    ".appName(\"abalone_stream\") \\\n",
    ".master(\"local[*]\") \\\n",
    ".getOrCreate()"
   ]
  },
  {
   "cell_type": "code",
   "execution_count": 11,
   "id": "cf55680c",
   "metadata": {},
   "outputs": [],
   "source": [
    "abalone_raw_df = spark.read \\\n",
    ".format(\"csv\") \\\n",
    ".option(\"header\", True).option(\"maxFilesPerTrigger\",1) \\\n",
    ".load(r\"abalone_full.csv\")"
   ]
  },
  {
   "cell_type": "code",
   "execution_count": 15,
   "id": "3dff398d",
   "metadata": {},
   "outputs": [
    {
     "name": "stdout",
     "output_type": "stream",
     "text": [
      "+---+------+--------+------+------------+--------------+--------------+------------+---------------------+\n",
      "|Sex|Length|Diameter|Height|Whole_weight|Shucked_weight|Viscera_weight|Shell_weight|Class_number_of_rings|\n",
      "+---+------+--------+------+------------+--------------+--------------+------------+---------------------+\n",
      "|  I| 0.495|    0.38|  0.13|      0.5125|        0.2185|         0.116|        0.16|                    7|\n",
      "|  I| 0.485|   0.365| 0.105|      0.5205|         0.195|         0.123|       0.182|                    8|\n",
      "|  I|  0.13|   0.095| 0.035|      0.0105|         0.005|        0.0065|      0.0035|                    4|\n",
      "|  M|  0.63|   0.515| 0.155|       1.259|        0.4105|         0.197|        0.41|                   13|\n",
      "|  F| 0.645|   0.525|   0.2|       1.449|         0.601|        0.2565|       0.505|                   13|\n",
      "|  F| 0.645|   0.525|  0.19|      1.4635|        0.6615|        0.3435|       0.435|                   19|\n",
      "|  F| 0.625|     0.5| 0.165|       1.288|         0.573|        0.3035|       0.315|                    9|\n",
      "|  F| 0.445|   0.325| 0.125|       0.455|        0.1785|        0.1125|        0.14|                    9|\n",
      "|  M| 0.385|     0.3| 0.095|        0.24|        0.0885|         0.059|       0.085|                    9|\n",
      "|  F|  0.67|   0.515|  0.17|      1.4265|        0.6605|        0.3395|        0.37|                   11|\n",
      "|  M|  0.74|   0.595|  0.19|      2.3235|        1.1495|        0.5115|       0.505|                   11|\n",
      "|  M|  0.58|    0.44|  0.16|      0.8295|        0.3365|        0.2005|      0.2485|                    9|\n",
      "|  I|  0.43|    0.34|  0.12|      0.3575|         0.151|        0.0645|      0.1045|                    9|\n",
      "|  I| 0.335|   0.245|  0.09|      0.1665|        0.0595|          0.04|        0.06|                    6|\n",
      "|  M| 0.495|   0.395|  0.12|       0.553|         0.224|        0.1375|       0.167|                    8|\n",
      "|  I|  0.53|    0.43| 0.135|      0.6255|         0.245|        0.1455|      0.2135|                   10|\n",
      "|  I| 0.415|   0.335|   0.1|       0.358|         0.169|         0.067|       0.105|                    7|\n",
      "|  I|  0.36|   0.265| 0.085|      0.1865|        0.0675|         0.037|      0.0615|                    7|\n",
      "|  I| 0.225|    0.17|  0.07|      0.0565|         0.024|         0.013|       0.016|                    4|\n",
      "|  M|  0.61|   0.485|  0.17|      1.0225|         0.419|        0.2405|        0.36|                   12|\n",
      "+---+------+--------+------+------------+--------------+--------------+------------+---------------------+\n",
      "only showing top 20 rows\n",
      "\n"
     ]
    }
   ],
   "source": [
    "abalone_raw_df.show()"
   ]
  },
  {
   "cell_type": "code",
   "execution_count": null,
   "id": "14d07d98",
   "metadata": {},
   "outputs": [],
   "source": []
  }
 ],
 "metadata": {
  "kernelspec": {
   "display_name": "Python 3",
   "language": "python",
   "name": "python3"
  },
  "language_info": {
   "codemirror_mode": {
    "name": "ipython",
    "version": 3
   },
   "file_extension": ".py",
   "mimetype": "text/x-python",
   "name": "python",
   "nbconvert_exporter": "python",
   "pygments_lexer": "ipython3",
   "version": "3.8.10"
  }
 },
 "nbformat": 4,
 "nbformat_minor": 5
}
