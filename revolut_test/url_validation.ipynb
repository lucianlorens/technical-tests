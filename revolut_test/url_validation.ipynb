{
 "cells": [
  {
   "cell_type": "markdown",
   "id": "98e7d325",
   "metadata": {},
   "source": [
    "Given as input a URL and a SEO keyword with a max length of 20 characters, chosen by the user, generate a SEO URL.\n",
    "\n",
    "Example:\n",
    "\n",
    "Input:\n",
    "URL: http://looooong.com/somepath\n",
    "SEO keyword: MY-NEW-WS\n",
    "Output: \t\n",
    "URL: http://short.com/MY-NEW-WS \n",
    "\n",
    "Input:\n",
    "URL: http://looooong.com/somepath\n",
    "SEO keyword: POTATO\n",
    "Output: \n",
    "URL: http://short.com/POTATO"
   ]
  },
  {
   "cell_type": "code",
   "execution_count": 29,
   "id": "137ef9e1",
   "metadata": {},
   "outputs": [],
   "source": [
    "import re \n",
    "url_short = 'http://short.com/'\n",
    "url = 'http://looooong.com/somepath'\n",
    "keyword = 'POTATO'"
   ]
  },
  {
   "cell_type": "code",
   "execution_count": null,
   "id": "e1a05a07",
   "metadata": {},
   "outputs": [],
   "source": [
    "\n",
    "\n"
   ]
  },
  {
   "cell_type": "code",
   "execution_count": 31,
   "id": "ff21c295",
   "metadata": {},
   "outputs": [
    {
     "name": "stdout",
     "output_type": "stream",
     "text": [
      "protocol validation ok\n",
      "url minimum slashes validation ok\n"
     ]
    }
   ],
   "source": [
    "def validate_url(url):    \n",
    "#     if (url.split('//')[0] == 'http:' or 'https:'  and\n",
    "#     (len(url.split('/')) >= 2) and\n",
    "#     (re.search('.*/$', url)) ):\n",
    "#         print('validation complete')\n",
    "#     else:\n",
    "#         print('invalid url')\n",
    "\n",
    "    # protocol validation\n",
    "    if (url.split('//')[0] == 'http:' or 'https:' ):\n",
    "        print('protocol validation ok')\n",
    "        return 'internet protocol invalid'\n",
    "        # at least 3 slashes on the URL \n",
    "        if len(url.split('/')) >= 2:\n",
    "            print('url minimum slashes validation ok')\n",
    "            # if contains [ . com.pt*/ ]\n",
    "            # .com .net .pt .io\n",
    "            if re.search('.*/$', url):\n",
    "                print(\"dot domain validation ok\")\n",
    "                \n",
    "\n",
    "\n",
    "validate_url(url)"
   ]
  },
  {
   "cell_type": "code",
   "execution_count": null,
   "id": "57e5bffe",
   "metadata": {},
   "outputs": [],
   "source": [
    "import pytest\n",
    "\n",
    "assert( protocol is wrong)\n",
    "assert(url minimum slashes is wrong)\n",
    "assert(dot domain )\n",
    "\n"
   ]
  },
  {
   "cell_type": "code",
   "execution_count": null,
   "id": "7d74f2b8",
   "metadata": {},
   "outputs": [],
   "source": [
    "\n",
    "def url_shorter(url, keyword):\n",
    "    try:\n",
    "        if ( validate_url(url) ):\n",
    "            \n",
    "            \n",
    "    except e:\n",
    "        print('invalid url input')\n",
    "        pass\n",
    "    \n",
    "#     return url_short + url.split('/')[:-1]\n",
    "\n",
    "url_shorter(url_short, keyword)"
   ]
  },
  {
   "cell_type": "code",
   "execution_count": null,
   "id": "576ba91a",
   "metadata": {},
   "outputs": [],
   "source": []
  }
 ],
 "metadata": {
  "kernelspec": {
   "display_name": "Python 3",
   "language": "python",
   "name": "python3"
  },
  "language_info": {
   "codemirror_mode": {
    "name": "ipython",
    "version": 3
   },
   "file_extension": ".py",
   "mimetype": "text/x-python",
   "name": "python",
   "nbconvert_exporter": "python",
   "pygments_lexer": "ipython3",
   "version": "3.8.8"
  }
 },
 "nbformat": 4,
 "nbformat_minor": 5
}
